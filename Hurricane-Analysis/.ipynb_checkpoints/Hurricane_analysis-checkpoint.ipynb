{
 "cells": [
  {
   "cell_type": "code",
   "execution_count": 2,
   "metadata": {},
   "outputs": [],
   "source": [
    "damages = ['Damages not recorded', '100M', 'Damages not recorded', '40M', '27.9M', '5M', 'Damages not recorded', '306M', '2M', '65.8M', '326M', '60.3M', '208M', '1.42B', '25.4M', 'Damages not recorded', '1.54B', '1.24B', '7.1B', '10B', '26.5B', '6.2B', '5.37B', '23.3B', '1.01B', '125B', '12B', '29.4B', '1.76B', '720M', '15.1B', '64.8B', '91.6B', '25.1B']"
   ]
  },
  {
   "cell_type": "code",
   "execution_count": 3,
   "metadata": {},
   "outputs": [],
   "source": [
    "names = ['Cuba I', 'San Felipe II Okeechobee', 'Bahamas', 'Cuba II', 'CubaBrownsville', 'Tampico', 'Labor Day', 'New England', 'Carol', 'Janet', 'Carla', 'Hattie', 'Beulah', 'Camille', 'Edith', 'Anita', 'David', 'Allen', 'Gilbert', 'Hugo', 'Andrew', 'Mitch', 'Isabel', 'Ivan', 'Emily', 'Katrina', 'Rita', 'Wilma', 'Dean', 'Felix', 'Matthew', 'Irma', 'Maria', 'Michael']"
   ]
  },
  {
   "cell_type": "code",
   "execution_count": 4,
   "metadata": {},
   "outputs": [],
   "source": [
    "months = ['October', 'September', 'September', 'November', 'August', 'September', 'September', 'September', 'September', 'September', 'September', 'October', 'September', 'August', 'September', 'September', 'August', 'August', 'September', 'September', 'August', 'October', 'September', 'September', 'July', 'August', 'September', 'October', 'August', 'September', 'October', 'September', 'September', 'October']"
   ]
  },
  {
   "cell_type": "code",
   "execution_count": 5,
   "metadata": {},
   "outputs": [],
   "source": [
    "years = [1924, 1928, 1932, 1932, 1933, 1933, 1935, 1938, 1953, 1955, 1961, 1961, 1967, 1969, 1971, 1977, 1979, 1980, 1988, 1989, 1992, 1998, 2003, 2004, 2005, 2005, 2005, 2005, 2007, 2007, 2016, 2017, 2017, 2018]"
   ]
  },
  {
   "cell_type": "code",
   "execution_count": 6,
   "metadata": {},
   "outputs": [],
   "source": [
    "max_sustained_winds = [165, 160, 160, 175, 160, 160, 185, 160, 160, 175, 175, 160, 160, 175, 160, 175, 175, 190, 185, 160, 175, 180, 165, 165, 160, 175, 180, 185, 175, 175, 165, 180, 175, 160]"
   ]
  },
  {
   "cell_type": "code",
   "execution_count": 7,
   "metadata": {},
   "outputs": [],
   "source": [
    "areas_affected = [['Central America', 'Mexico', 'Cuba', 'Florida', 'The Bahamas'], ['Lesser Antilles', 'The Bahamas', 'United States East Coast', 'Atlantic Canada'], ['The Bahamas', 'Northeastern United States'], ['Lesser Antilles', 'Jamaica', 'Cayman Islands', 'Cuba', 'The Bahamas', 'Bermuda'], ['The Bahamas', 'Cuba', 'Florida', 'Texas', 'Tamaulipas'], ['Jamaica', 'Yucatn Peninsula'], ['The Bahamas', 'Florida', 'Georgia', 'The Carolinas', 'Virginia'], ['Southeastern United States', 'Northeastern United States', 'Southwestern Quebec'], ['Bermuda', 'New England', 'Atlantic Canada'], ['Lesser Antilles', 'Central America'], ['Texas', 'Louisiana', 'Midwestern United States'], ['Central America'], ['The Caribbean', 'Mexico', 'Texas'], ['Cuba', 'United States Gulf Coast'], ['The Caribbean', 'Central America', 'Mexico', 'United States Gulf Coast'], ['Mexico'], ['The Caribbean', 'United States East coast'], ['The Caribbean', 'Yucatn Peninsula', 'Mexico', 'South Texas'], ['Jamaica', 'Venezuela', 'Central America', 'Hispaniola', 'Mexico'], ['The Caribbean', 'United States East Coast'], ['The Bahamas', 'Florida', 'United States Gulf Coast'], ['Central America', 'Yucatn Peninsula', 'South Florida'], ['Greater Antilles', 'Bahamas', 'Eastern United States', 'Ontario'], ['The Caribbean', 'Venezuela', 'United States Gulf Coast'], ['Windward Islands', 'Jamaica', 'Mexico', 'Texas'], ['Bahamas', 'United States Gulf Coast'], ['Cuba', 'United States Gulf Coast'], ['Greater Antilles', 'Central America', 'Florida'], ['The Caribbean', 'Central America'], ['Nicaragua', 'Honduras'], ['Antilles', 'Venezuela', 'Colombia', 'United States East Coast', 'Atlantic Canada'], ['Cape Verde', 'The Caribbean', 'British Virgin Islands', 'U.S. Virgin Islands', 'Cuba', 'Florida'], ['Lesser Antilles', 'Virgin Islands', 'Puerto Rico', 'Dominican Republic', 'Turks and Caicos Islands'], ['Central America', 'United States Gulf Coast (especially Florida Panhandle)']]"
   ]
  },
  {
   "cell_type": "code",
   "execution_count": 8,
   "metadata": {},
   "outputs": [],
   "source": [
    "deaths = [90,4000,16,3103,179,184,408,682,5,1023,43,319,688,259,37,11,2068,269,318,107,65,19325,51,124,17,1836,125,87,45,133,603,138,3057,74]"
   ]
  },
  {
   "cell_type": "code",
   "execution_count": 9,
   "metadata": {},
   "outputs": [],
   "source": [
    "#Function to convert the damage numbers to float\n",
    "\n",
    "def dmg_to_float(dmg):\n",
    "    if dmg == \"Damages not recorded\":\n",
    "        return \"Damages not recorded\"\n",
    "    elif dmg[-1] == 'B':\n",
    "        return float(dmg[:-1]) * 1000000000\n",
    "    elif dmg[-1] == 'M':\n",
    "        return float(dmg[:-1]) * 1000000\n",
    "    else:\n",
    "        return float(dmg)\n",
    "    "
   ]
  },
  {
   "cell_type": "code",
   "execution_count": 10,
   "metadata": {},
   "outputs": [],
   "source": [
    "#New updated list for damages with numericals\n",
    "\n",
    "updated_damages = []\n",
    "for index in range(len(damages)):\n",
    "    updated_damages.append(dmg_to_float(damages[index]))\n",
    "    "
   ]
  },
  {
   "cell_type": "code",
   "execution_count": 11,
   "metadata": {},
   "outputs": [],
   "source": [
    "# Function to create a dictionary with a hurricane as the key value and the value as the dictionary details of the hurricane\n",
    "\n",
    "def hurr_name_dict_fx(name, month, year, max_sustained_wind, areas_affected, damage, death):\n",
    "    value_dict = {}\n",
    "    value_dict[\"Name\"] = name\n",
    "    value_dict[\"Month\"] = month\n",
    "    value_dict[\"Year\"] = year\n",
    "    value_dict[\"Max Sustained Wind\"] = max_sustained_wind\n",
    "    value_dict[\"Areas Affected\"] = areas_affected\n",
    "    value_dict[\"Damage\"] = damage\n",
    "    value_dict[\"Deaths\"] = death\n",
    "    return value_dict\n",
    "    "
   ]
  },
  {
   "cell_type": "code",
   "execution_count": 12,
   "metadata": {},
   "outputs": [],
   "source": [
    "# Creating a dictionary with hurricane's name as key and the details as value\n",
    "\n",
    "hurricanes_name_dict = {}\n",
    "for index in range(len(names)):\n",
    "    hurricanes_name_dict[names[index]] = hurr_name_dict_fx(names[index], months[index], years[index], max_sustained_winds[index], areas_affected[index], damages[index], deaths[index])\n"
   ]
  },
  {
   "cell_type": "code",
   "execution_count": 13,
   "metadata": {},
   "outputs": [],
   "source": [
    "# Creating a dictionary with hurricane's year as key and the details as value\n",
    "\n",
    "hurricanes_year_dict = {}\n",
    "for index in range(len(names)):\n",
    "    hurricanes_year_dict[years[index]] = hurr_name_dict_fx(names[index], months[index], years[index], max_sustained_winds[index], areas_affected[index], damages[index], deaths[index])\n"
   ]
  },
  {
   "cell_type": "code",
   "execution_count": 14,
   "metadata": {},
   "outputs": [],
   "source": [
    "# Creating individual area list\n",
    "\n",
    "ind_areas_listed = []\n",
    "for area_lists in areas_affected:\n",
    "    for areas in area_lists:\n",
    "        ind_areas_listed.append(areas)\n",
    "       \n"
   ]
  },
  {
   "cell_type": "code",
   "execution_count": 15,
   "metadata": {},
   "outputs": [],
   "source": [
    "# Dictionary with areas affected and the frequency they got affected\n",
    "\n",
    "areas_affected_dict = {}\n",
    "for areas in ind_areas_listed:\n",
    "    if areas in areas_affected_dict:\n",
    "        areas_affected_dict[areas] = areas_affected_dict.get(areas) + 1\n",
    "    else:\n",
    "        areas_affected_dict[areas] = 1       \n",
    "    "
   ]
  },
  {
   "cell_type": "code",
   "execution_count": 26,
   "metadata": {},
   "outputs": [],
   "source": [
    "# Dictionary to have the hurricane and the maximum deaths it has casued\n",
    "\n",
    "def max_death_hurr_fx():\n",
    "    hur_dict = {}\n",
    "    max_deaths_index = deaths.index(max(deaths))\n",
    "    max_death_hurricane = names[max_deaths_index]\n",
    "    hur_dict[max_death_hurricane] = max(deaths)\n",
    "    return hur_dict\n",
    "\n",
    "max_death_hur_dict = max_death_hurr_fx()\n",
    "\n"
   ]
  },
  {
   "cell_type": "code",
   "execution_count": 34,
   "metadata": {},
   "outputs": [],
   "source": [
    "# Mortality rate dictionary\n",
    "\n",
    "mort_dict = {}\n",
    "zero_list, one_list, two_list, three_list, four_list, five_list = [], [], [], [], [], []\n",
    "for index in range(len(names)):\n",
    "    if deaths[index] <= 0:\n",
    "        zero_list.append(names[index])\n",
    "    if deaths[index] in range(0,101):\n",
    "        one_list.append(names[index])\n",
    "    elif deaths[index] in range(101,501):\n",
    "        two_list.append(names[index])\n",
    "    elif deaths[index] in range(501,1001):\n",
    "        three_list.append(names[index])\n",
    "    elif deaths[index] in range(1001,10001):\n",
    "        four_list.append(names[index])\n",
    "    elif deaths[index] > 10000:\n",
    "        five_list.append(names[index])\n",
    "\n",
    "mort_dict.update({0: zero_list, 1:one_list, 2:two_list, 3:three_list, 4:four_list, 5:five_list})\n"
   ]
  },
  {
   "cell_type": "code",
   "execution_count": 35,
   "metadata": {},
   "outputs": [],
   "source": [
    "# Dictionary to have the hurricane and the maximum damages it has casued\n",
    "\n",
    "def max_dmg_hurr_fx():\n",
    "    hur_dmg_dict = {}\n",
    "    max_dmg_index = damages.index(max(damages))\n",
    "    max_dmg_hurricane = names[max_dmg_index]\n",
    "    hur_dmg_dict[max_dmg_hurricane] = max(damages)\n",
    "    return hur_dmg_dict\n",
    "\n",
    "max_dmg_hur_dict = max_dmg_hurr_fx()"
   ]
  },
  {
   "cell_type": "code",
   "execution_count": 39,
   "metadata": {},
   "outputs": [],
   "source": [
    "# Damage rate dictionary\n",
    "\n",
    "dmg_dict = {}\n",
    "zero_list, one_list, two_list, three_list, four_list, five_list = [], [], [], [], [], []\n",
    "for index in range(len(names)):\n",
    "    if deaths[index] <= 0:\n",
    "        zero_list.append(names[index])\n",
    "    if deaths[index] in range(0,100000001):\n",
    "        one_list.append(names[index])\n",
    "    elif deaths[index] in range(100000001,1000000001):\n",
    "        two_list.append(names[index])\n",
    "    elif deaths[index] in range(1000000001,10000000001):\n",
    "        three_list.append(names[index])\n",
    "    elif deaths[index] in range(10000000001,50000000001):\n",
    "        four_list.append(names[index])\n",
    "    elif deaths[index] > 50000000000:\n",
    "        five_list.append(names[index])\n",
    "\n",
    "dmg_dict.update({0: zero_list, 1:one_list, 2:two_list, 3:three_list, 4:four_list, 5:five_list})\n"
   ]
  },
  {
   "cell_type": "code",
   "execution_count": null,
   "metadata": {},
   "outputs": [],
   "source": []
  }
 ],
 "metadata": {
  "kernelspec": {
   "display_name": "Python 3",
   "language": "python",
   "name": "python3"
  },
  "language_info": {
   "codemirror_mode": {
    "name": "ipython",
    "version": 3
   },
   "file_extension": ".py",
   "mimetype": "text/x-python",
   "name": "python",
   "nbconvert_exporter": "python",
   "pygments_lexer": "ipython3",
   "version": "3.8.5"
  },
  "latex_envs": {
   "LaTeX_envs_menu_present": true,
   "autoclose": false,
   "autocomplete": true,
   "bibliofile": "biblio.bib",
   "cite_by": "apalike",
   "current_citInitial": 1,
   "eqLabelWithNumbers": true,
   "eqNumInitial": 1,
   "hotkeys": {
    "equation": "Ctrl-E",
    "itemize": "Ctrl-I"
   },
   "labels_anchors": false,
   "latex_user_defs": false,
   "report_style_numbering": false,
   "user_envs_cfg": false
  },
  "toc": {
   "base_numbering": 1,
   "nav_menu": {},
   "number_sections": true,
   "sideBar": true,
   "skip_h1_title": false,
   "title_cell": "Table of Contents",
   "title_sidebar": "Contents",
   "toc_cell": false,
   "toc_position": {},
   "toc_section_display": true,
   "toc_window_display": false
  }
 },
 "nbformat": 4,
 "nbformat_minor": 4
}
